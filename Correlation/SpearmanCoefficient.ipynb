{
 "cells": [
  {
   "cell_type": "code",
   "execution_count": 10,
   "metadata": {},
   "outputs": [],
   "source": [
    "import numpy as np\n",
    "import pandas as pd\n",
    "import scipy\n",
    "from scipy.stats import spearmanr"
   ]
  },
  {
   "cell_type": "code",
   "execution_count": 45,
   "metadata": {},
   "outputs": [
    {
     "data": {
      "text/html": [
       "<div>\n",
       "<style scoped>\n",
       "    .dataframe tbody tr th:only-of-type {\n",
       "        vertical-align: middle;\n",
       "    }\n",
       "\n",
       "    .dataframe tbody tr th {\n",
       "        vertical-align: top;\n",
       "    }\n",
       "\n",
       "    .dataframe thead th {\n",
       "        text-align: right;\n",
       "    }\n",
       "</style>\n",
       "<table border=\"1\" class=\"dataframe\">\n",
       "  <thead>\n",
       "    <tr style=\"text-align: right;\">\n",
       "      <th></th>\n",
       "      <th>GROUP</th>\n",
       "      <th>PACKAGE</th>\n",
       "      <th>CLASS</th>\n",
       "      <th>INSTRUCTION_MISSED</th>\n",
       "      <th>INSTRUCTION_COVERED</th>\n",
       "      <th>BRANCH_MISSED</th>\n",
       "      <th>BRANCH_COVERED</th>\n",
       "      <th>LINE_MISSED</th>\n",
       "      <th>LINE_COVERED</th>\n",
       "      <th>COMPLEXITY_MISSED</th>\n",
       "      <th>COMPLEXITY_COVERED</th>\n",
       "      <th>METHOD_MISSED</th>\n",
       "      <th>METHOD_COVERED</th>\n",
       "    </tr>\n",
       "  </thead>\n",
       "  <tbody>\n",
       "    <tr>\n",
       "      <th>0</th>\n",
       "      <td>Apache Commons Collections</td>\n",
       "      <td>org.apache.commons.collections4.keyvalue</td>\n",
       "      <td>TiedMapEntry</td>\n",
       "      <td>3</td>\n",
       "      <td>106</td>\n",
       "      <td>5</td>\n",
       "      <td>17</td>\n",
       "      <td>1</td>\n",
       "      <td>21</td>\n",
       "      <td>5</td>\n",
       "      <td>13</td>\n",
       "      <td>0</td>\n",
       "      <td>7</td>\n",
       "    </tr>\n",
       "    <tr>\n",
       "      <th>1</th>\n",
       "      <td>Apache Commons Collections</td>\n",
       "      <td>org.apache.commons.collections4.keyvalue</td>\n",
       "      <td>AbstractMapEntry</td>\n",
       "      <td>0</td>\n",
       "      <td>70</td>\n",
       "      <td>1</td>\n",
       "      <td>19</td>\n",
       "      <td>0</td>\n",
       "      <td>13</td>\n",
       "      <td>1</td>\n",
       "      <td>13</td>\n",
       "      <td>0</td>\n",
       "      <td>4</td>\n",
       "    </tr>\n",
       "    <tr>\n",
       "      <th>2</th>\n",
       "      <td>Apache Commons Collections</td>\n",
       "      <td>org.apache.commons.collections4.keyvalue</td>\n",
       "      <td>UnmodifiableMapEntry</td>\n",
       "      <td>0</td>\n",
       "      <td>24</td>\n",
       "      <td>0</td>\n",
       "      <td>0</td>\n",
       "      <td>0</td>\n",
       "      <td>7</td>\n",
       "      <td>0</td>\n",
       "      <td>4</td>\n",
       "      <td>0</td>\n",
       "      <td>4</td>\n",
       "    </tr>\n",
       "    <tr>\n",
       "      <th>3</th>\n",
       "      <td>Apache Commons Collections</td>\n",
       "      <td>org.apache.commons.collections4.keyvalue</td>\n",
       "      <td>AbstractKeyValue</td>\n",
       "      <td>0</td>\n",
       "      <td>44</td>\n",
       "      <td>0</td>\n",
       "      <td>0</td>\n",
       "      <td>0</td>\n",
       "      <td>17</td>\n",
       "      <td>0</td>\n",
       "      <td>6</td>\n",
       "      <td>0</td>\n",
       "      <td>6</td>\n",
       "    </tr>\n",
       "    <tr>\n",
       "      <th>4</th>\n",
       "      <td>Apache Commons Collections</td>\n",
       "      <td>org.apache.commons.collections4.keyvalue</td>\n",
       "      <td>MultiKey</td>\n",
       "      <td>0</td>\n",
       "      <td>191</td>\n",
       "      <td>0</td>\n",
       "      <td>12</td>\n",
       "      <td>0</td>\n",
       "      <td>37</td>\n",
       "      <td>0</td>\n",
       "      <td>20</td>\n",
       "      <td>0</td>\n",
       "      <td>14</td>\n",
       "    </tr>\n",
       "  </tbody>\n",
       "</table>\n",
       "</div>"
      ],
      "text/plain": [
       "                        GROUP                                   PACKAGE  \\\n",
       "0  Apache Commons Collections  org.apache.commons.collections4.keyvalue   \n",
       "1  Apache Commons Collections  org.apache.commons.collections4.keyvalue   \n",
       "2  Apache Commons Collections  org.apache.commons.collections4.keyvalue   \n",
       "3  Apache Commons Collections  org.apache.commons.collections4.keyvalue   \n",
       "4  Apache Commons Collections  org.apache.commons.collections4.keyvalue   \n",
       "\n",
       "                  CLASS  INSTRUCTION_MISSED  INSTRUCTION_COVERED  \\\n",
       "0          TiedMapEntry                   3                  106   \n",
       "1      AbstractMapEntry                   0                   70   \n",
       "2  UnmodifiableMapEntry                   0                   24   \n",
       "3      AbstractKeyValue                   0                   44   \n",
       "4              MultiKey                   0                  191   \n",
       "\n",
       "   BRANCH_MISSED  BRANCH_COVERED  LINE_MISSED  LINE_COVERED  \\\n",
       "0              5              17            1            21   \n",
       "1              1              19            0            13   \n",
       "2              0               0            0             7   \n",
       "3              0               0            0            17   \n",
       "4              0              12            0            37   \n",
       "\n",
       "   COMPLEXITY_MISSED  COMPLEXITY_COVERED  METHOD_MISSED  METHOD_COVERED  \n",
       "0                  5                  13              0               7  \n",
       "1                  1                  13              0               4  \n",
       "2                  0                   4              0               4  \n",
       "3                  0                   6              0               6  \n",
       "4                  0                  20              0              14  "
      ]
     },
     "execution_count": 45,
     "metadata": {},
     "output_type": "execute_result"
    }
   ],
   "source": [
    "language = pd.read_csv(\"C:/Users/ORACLE/Desktop/UCHETHINGS/Codecoverage-20200327T140930Z-001/Codecoverage/lang.csv\")\n",
    "net = pd.read_csv(\"C:/Users/ORACLE/Desktop/UCHETHINGS/Codecoverage-20200327T140930Z-001/Codecoverage/net.csv\")\n",
    "collections = pd.read_csv(\"C:/Users/ORACLE/Desktop/UCHETHINGS/Codecoverage-20200327T140930Z-001/Codecoverage/collections.csv\")\n",
    "digester = pd.read_csv(\"C:/Users/ORACLE/Desktop/UCHETHINGS/Codecoverage-20200327T140930Z-001/Codecoverage/digester.csv\")\n",
    "\n",
    "\n",
    "collections.head()"
   ]
  },
  {
   "cell_type": "code",
   "execution_count": 49,
   "metadata": {},
   "outputs": [
    {
     "name": "stdout",
     "output_type": "stream",
     "text": [
      "0.878\n",
      "0.994\n"
     ]
    }
   ],
   "source": [
    "digestCycl = digester['COMPLEXITY_COVERED']\n",
    "digestLineCoverage = digester['LINE_COVERED']\n",
    "digestBranchCoverage = digester['BRANCH_COVERED']\n",
    "\n",
    "\n",
    "netCycl = net['COMPLEXITY_COVERED']\n",
    "netLineCoverage = net['LINE_COVERED']\n",
    "netBranchCoverage = net['BRANCH_COVERED']\n",
    "\n",
    "langCycl = language['COMPLEXITY_COVERED']\n",
    "langLineCoverage = language['LINE_COVERED']\n",
    "langBranchCoverage = language['BRANCH_COVERED']\n",
    "\n",
    "collCycl = collections['COMPLEXITY_COVERED']\n",
    "collLineCoverage = collections['LINE_COVERED']\n",
    "collBranchCoverage = collections['BRANCH_COVERED']\n",
    "\n",
    "\n",
    "s_c, p_value = spearmanr(netCycl, netBranchCoverage)\n",
    "s_c1, p_value = spearmanr(netCycl, netLineCoverage)\n",
    "print(f\"{s_c:.3f}\")\n",
    "print(f\"{s_c1:.3f}\")"
   ]
  },
  {
   "cell_type": "code",
   "execution_count": 50,
   "metadata": {},
   "outputs": [
    {
     "name": "stdout",
     "output_type": "stream",
     "text": [
      "0.827\n",
      "0.945\n"
     ]
    }
   ],
   "source": [
    "s_c, p_value = spearmanr(collCycl, collBranchCoverage)\n",
    "s_c1, p_value = spearmanr(collCycl, collLineCoverage)\n",
    "print(f\"{s_c:.3f}\")\n",
    "print(f\"{s_c1:.3f}\")"
   ]
  },
  {
   "cell_type": "code",
   "execution_count": 51,
   "metadata": {},
   "outputs": [
    {
     "name": "stdout",
     "output_type": "stream",
     "text": [
      "0.844\n",
      "0.945\n"
     ]
    }
   ],
   "source": [
    "s_c, p_value = spearmanr(langCycl, langBranchCoverage)\n",
    "s_c1, p_value = spearmanr(langCycl, langLineCoverage)\n",
    "print(f\"{s_c:.3f}\")\n",
    "print(f\"{s_c1:.3f}\")"
   ]
  },
  {
   "cell_type": "code",
   "execution_count": 52,
   "metadata": {},
   "outputs": [
    {
     "name": "stdout",
     "output_type": "stream",
     "text": [
      "0.853\n",
      "0.947\n"
     ]
    }
   ],
   "source": [
    "s_c, p_value = spearmanr(digestCycl, digestBranchCoverage)\n",
    "s_c1, p_value = spearmanr(digestCycl, digestLineCoverage)\n",
    "print(f\"{s_c:.3f}\")\n",
    "print(f\"{s_c1:.3f}\")"
   ]
  },
  {
   "cell_type": "code",
   "execution_count": null,
   "metadata": {},
   "outputs": [],
   "source": []
  }
 ],
 "metadata": {
  "kernelspec": {
   "display_name": "Python 3",
   "language": "python",
   "name": "python3"
  },
  "language_info": {
   "codemirror_mode": {
    "name": "ipython",
    "version": 3
   },
   "file_extension": ".py",
   "mimetype": "text/x-python",
   "name": "python",
   "nbconvert_exporter": "python",
   "pygments_lexer": "ipython3",
   "version": "3.7.6"
  }
 },
 "nbformat": 4,
 "nbformat_minor": 4
}
