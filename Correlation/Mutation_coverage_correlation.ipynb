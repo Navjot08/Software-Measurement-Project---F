{
 "cells": [
  {
   "cell_type": "code",
   "execution_count": 1,
   "metadata": {},
   "outputs": [],
   "source": [
    "import numpy as np\n",
    "import pandas as pd\n",
    "import scipy\n",
    "from scipy.stats import spearmanr"
   ]
  },
  {
   "cell_type": "code",
   "execution_count": 2,
   "metadata": {},
   "outputs": [],
   "source": [
    "language = pd.read_csv(\"C:/Users/ORACLE/Desktop/UCHETHINGS/Codecoverage-20200327T140930Z-001/Codecoverage/lang.csv\")\n",
    "net = pd.read_csv(\"C:/Users/ORACLE/Desktop/UCHETHINGS/Codecoverage-20200327T140930Z-001/Codecoverage/net.csv\")\n",
    "collections = pd.read_csv(\"C:/Users/ORACLE/Desktop/UCHETHINGS/Codecoverage-20200327T140930Z-001/Codecoverage/collections.csv\")\n",
    "digester = pd.read_csv(\"C:/Users/ORACLE/Desktop/UCHETHINGS/Codecoverage-20200327T140930Z-001/Codecoverage/digester.csv\")"
   ]
  },
  {
   "cell_type": "code",
   "execution_count": 75,
   "metadata": {
    "scrolled": true
   },
   "outputs": [],
   "source": [
    "digesterMut = pd.read_excel('C:/Users/ORACLE/Desktop/UCHETHINGS/digester6.xlsx')\n",
    "collectionMut = pd.read_excel('C:/Users/ORACLE/Desktop/UCHETHINGS/collections2.xlsx')\n",
    "netMut = pd.read_excel('C:/Users/ORACLE/Desktop/UCHETHINGS/net2.xlsx')\n",
    "langMut = pd.read_excel('C:/Users/ORACLE/Desktop/UCHETHINGS/lang2.xlsx')"
   ]
  },
  {
   "cell_type": "code",
   "execution_count": 76,
   "metadata": {},
   "outputs": [],
   "source": [
    "digesterMut['MUTATION'] = digesterMut['MUTATION'].apply(lambda x: x*100)\n",
    "collectionMut['MUTATION'] = collectionMut['MUTATION'].apply(lambda x: x*100)\n",
    "netMut['MUTATION'] = netMut['MUTATION'].apply(lambda x: x*100)\n",
    "langMut['MUTATION'] = langMut['MUTATION'].apply(lambda x: x*100)"
   ]
  },
  {
   "cell_type": "code",
   "execution_count": 77,
   "metadata": {},
   "outputs": [
    {
     "data": {
      "text/html": [
       "<div>\n",
       "<style scoped>\n",
       "    .dataframe tbody tr th:only-of-type {\n",
       "        vertical-align: middle;\n",
       "    }\n",
       "\n",
       "    .dataframe tbody tr th {\n",
       "        vertical-align: top;\n",
       "    }\n",
       "\n",
       "    .dataframe thead th {\n",
       "        text-align: right;\n",
       "    }\n",
       "</style>\n",
       "<table border=\"1\" class=\"dataframe\">\n",
       "  <thead>\n",
       "    <tr style=\"text-align: right;\">\n",
       "      <th></th>\n",
       "      <th>GROUP</th>\n",
       "      <th>PACKAGE</th>\n",
       "      <th>CLASS</th>\n",
       "      <th>BRANCHED_COVERED</th>\n",
       "      <th>LINE_COVERED</th>\n",
       "      <th>MUTATION</th>\n",
       "    </tr>\n",
       "  </thead>\n",
       "  <tbody>\n",
       "    <tr>\n",
       "      <th>0</th>\n",
       "      <td>Apache Commons Lang</td>\n",
       "      <td>org.apache.commons.lang3</td>\n",
       "      <td>AnnotationUtils.java</td>\n",
       "      <td>NaN</td>\n",
       "      <td>NaN</td>\n",
       "      <td>62.0</td>\n",
       "    </tr>\n",
       "    <tr>\n",
       "      <th>1</th>\n",
       "      <td>Apache Commons Lang</td>\n",
       "      <td>org.apache.commons.lang3</td>\n",
       "      <td>ArchUtils.java</td>\n",
       "      <td>NaN</td>\n",
       "      <td>NaN</td>\n",
       "      <td>36.0</td>\n",
       "    </tr>\n",
       "    <tr>\n",
       "      <th>2</th>\n",
       "      <td>Apache Commons Lang</td>\n",
       "      <td>org.apache.commons.lang3</td>\n",
       "      <td>ArrayUtils.java</td>\n",
       "      <td>NaN</td>\n",
       "      <td>NaN</td>\n",
       "      <td>69.0</td>\n",
       "    </tr>\n",
       "    <tr>\n",
       "      <th>3</th>\n",
       "      <td>Apache Commons Lang</td>\n",
       "      <td>org.apache.commons.lang3</td>\n",
       "      <td>BitField.java</td>\n",
       "      <td>NaN</td>\n",
       "      <td>NaN</td>\n",
       "      <td>25.0</td>\n",
       "    </tr>\n",
       "    <tr>\n",
       "      <th>4</th>\n",
       "      <td>Apache Commons Lang</td>\n",
       "      <td>org.apache.commons.lang3</td>\n",
       "      <td>BooleanUtils.java</td>\n",
       "      <td>NaN</td>\n",
       "      <td>NaN</td>\n",
       "      <td>100.0</td>\n",
       "    </tr>\n",
       "  </tbody>\n",
       "</table>\n",
       "</div>"
      ],
      "text/plain": [
       "                 GROUP                   PACKAGE                 CLASS  \\\n",
       "0  Apache Commons Lang  org.apache.commons.lang3  AnnotationUtils.java   \n",
       "1  Apache Commons Lang  org.apache.commons.lang3        ArchUtils.java   \n",
       "2  Apache Commons Lang  org.apache.commons.lang3       ArrayUtils.java   \n",
       "3  Apache Commons Lang  org.apache.commons.lang3         BitField.java   \n",
       "4  Apache Commons Lang  org.apache.commons.lang3     BooleanUtils.java   \n",
       "\n",
       "   BRANCHED_COVERED  LINE_COVERED  MUTATION  \n",
       "0               NaN           NaN      62.0  \n",
       "1               NaN           NaN      36.0  \n",
       "2               NaN           NaN      69.0  \n",
       "3               NaN           NaN      25.0  \n",
       "4               NaN           NaN     100.0  "
      ]
     },
     "execution_count": 77,
     "metadata": {},
     "output_type": "execute_result"
    }
   ],
   "source": [
    "langMut.head()"
   ]
  },
  {
   "cell_type": "code",
   "execution_count": 78,
   "metadata": {},
   "outputs": [],
   "source": [
    "digestMut = digesterMut['MUTATION']\n",
    "digestLineCoverage = digester['LINE_COVERED']\n",
    "digestBranchCoverage = digester['BRANCH_COVERED']"
   ]
  },
  {
   "cell_type": "code",
   "execution_count": 79,
   "metadata": {},
   "outputs": [
    {
     "name": "stdout",
     "output_type": "stream",
     "text": [
      "0.059\n",
      "0.051\n"
     ]
    }
   ],
   "source": [
    "s_c, p_value = spearmanr(digestMut, digestBranchCoverage)\n",
    "s_c1, p_value = spearmanr(digestMut, digestLineCoverage)\n",
    "print(f\"{s_c:.3f}\")\n",
    "print(f\"{s_c1:.3f}\")"
   ]
  },
  {
   "cell_type": "code",
   "execution_count": 80,
   "metadata": {},
   "outputs": [],
   "source": [
    "collectionMut= collectionMut['MUTATION']\n",
    "collLineCoverage = collections['LINE_COVERED']\n",
    "collBranchCoverage = collections['BRANCH_COVERED']"
   ]
  },
  {
   "cell_type": "code",
   "execution_count": 81,
   "metadata": {},
   "outputs": [
    {
     "name": "stdout",
     "output_type": "stream",
     "text": [
      "0.103\n",
      "0.067\n"
     ]
    }
   ],
   "source": [
    "s_c, p_value = spearmanr(collectionMut, collBranchCoverage)\n",
    "s_c1, p_value = spearmanr(collectionMut, collLineCoverage)\n",
    "print(f\"{s_c:.3f}\")\n",
    "print(f\"{s_c1:.3f}\")"
   ]
  },
  {
   "cell_type": "code",
   "execution_count": 82,
   "metadata": {},
   "outputs": [],
   "source": [
    "netMut = netMut['MUTATION']\n",
    "netLineCoverage = net['LINE_COVERED']\n",
    "netBranchCoverage = net['BRANCH_COVERED']"
   ]
  },
  {
   "cell_type": "code",
   "execution_count": 83,
   "metadata": {},
   "outputs": [
    {
     "name": "stdout",
     "output_type": "stream",
     "text": [
      "0.136\n",
      "0.140\n"
     ]
    }
   ],
   "source": [
    "s_c, p_value = spearmanr(netMut, netBranchCoverage)\n",
    "s_c1, p_value = spearmanr(netMut, netLineCoverage)\n",
    "print(f\"{s_c:.3f}\")\n",
    "print(f\"{s_c1:.3f}\")"
   ]
  },
  {
   "cell_type": "code",
   "execution_count": 84,
   "metadata": {},
   "outputs": [],
   "source": [
    "langMut = langMut['MUTATION']\n",
    "langLineCoverage = language['LINE_COVERED']\n",
    "langBranchCoverage = language['BRANCH_COVERED']"
   ]
  },
  {
   "cell_type": "code",
   "execution_count": 85,
   "metadata": {},
   "outputs": [
    {
     "name": "stdout",
     "output_type": "stream",
     "text": [
      "-0.029\n",
      "0.030\n"
     ]
    }
   ],
   "source": [
    "s_c, p_value = spearmanr(langMut, langBranchCoverage)\n",
    "s_c1, p_value = spearmanr(langMut, langLineCoverage)\n",
    "print(f\"{s_c:.3f}\")\n",
    "print(f\"{s_c1:.3f}\")"
   ]
  },
  {
   "cell_type": "code",
   "execution_count": 86,
   "metadata": {},
   "outputs": [
    {
     "name": "stderr",
     "output_type": "stream",
     "text": [
      "[NbConvertApp] Converting notebook Mutation_coverage_correlation.ipynb to html\n",
      "[NbConvertApp] Writing 289219 bytes to Mutation_coverage_correlation.html\n"
     ]
    }
   ],
   "source": [
    "!jupyter nbconvert  Mutation_coverage_correlation.ipynb --to html"
   ]
  },
  {
   "cell_type": "code",
   "execution_count": null,
   "metadata": {},
   "outputs": [],
   "source": []
  }
 ],
 "metadata": {
  "kernelspec": {
   "display_name": "Python 3",
   "language": "python",
   "name": "python3"
  },
  "language_info": {
   "codemirror_mode": {
    "name": "ipython",
    "version": 3
   },
   "file_extension": ".py",
   "mimetype": "text/x-python",
   "name": "python",
   "nbconvert_exporter": "python",
   "pygments_lexer": "ipython3",
   "version": "3.7.6"
  }
 },
 "nbformat": 4,
 "nbformat_minor": 4
}
